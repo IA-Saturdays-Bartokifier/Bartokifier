{
 "cells": [
  {
   "cell_type": "code",
   "execution_count": null,
   "metadata": {},
   "outputs": [],
   "source": [
    "## preprocessing"
   ]
  },
  {
   "cell_type": "markdown",
   "metadata": {},
   "source": [
    "## libraries\n",
    "import glob\n",
    "import random\n",
    "import pretty_midi\n",
    "import IPython\n",
    "import numpy as np\n",
    "from tqdm import tnrange, tqdm\n",
    "from tqdm import notebook as tqdm\n",
    "from random import shuffle, seed\n",
    "import numpy as np\n",
    "\n",
    "import unicodedata\n",
    "import re\n",
    "import numpy as np\n",
    "import os\n",
    "import io\n",
    "import time"
   ]
  },
  {
   "cell_type": "markdown",
   "metadata": {},
   "source": [
    "## how to unzip a folder of midi files in the notebook before running preprocessing\n",
    "#unzips the folder\n",
    "import zipfile\n",
    "with zipfile.ZipFile(\"arabic_tribal_rhythms_ZIP.zip\",\"r\") as zip_ref:\n",
    "    zip_ref.extractall()#where you want the file to be unzipped, empty means I want it in the same folder?\n"
   ]
  },
  {
   "cell_type": "code",
   "execution_count": 85,
   "metadata": {},
   "outputs": [],
   "source": [
    "#1 \n",
    "\n",
    "#i want this to take a folder of midi files and produce a list\n",
    "class preprocessing_class:\n",
    "    \n",
    "    \n",
    "    def __init__(self, folder, batch_size, seq_len):\n",
    "        self.folder = folder\n",
    "        self.batch_size = batch_size\n",
    "        self.seq_len = seq_len\n",
    "\n",
    "\n",
    "   #2\n",
    "    def generate_dict_time_notes(self, list_all_midi, start_index=0, fs=30, use_tqdm=True):\n",
    "        \"\"\" Generate map (dictionary) of music ( in index ) to piano_roll (in np.array)\n",
    "\n",
    "        Parameters\n",
    "        ==========\n",
    "        list_all_midi : list\n",
    "            List of midi files\n",
    "        batch_size : int\n",
    "          A number of music in one batch\n",
    "        start_index : int\n",
    "          The start index to be batched in list_all_midi\n",
    "        fs : int\n",
    "          Sampling frequency of the columns, i.e. each column is spaced apart\n",
    "            by ``1./fs`` seconds.\n",
    "        use_tqdm : bool\n",
    "          Whether to use tqdm or not in the function\n",
    "\n",
    "        Returns\n",
    "        =======\n",
    "        dictionary of music to piano_roll (in np.array)\"\"\"\n",
    "        assert len(list_all_midi) >= self.batch_size\n",
    "        list_time_notes = []\n",
    "        process_tqdm_midi = tqdm.tqdm(range(start_index, len(list_all_midi))) if use_tqdm else range(start_index,  min(len(list_all_midi)))\n",
    "        for i in process_tqdm_midi:\n",
    "            midi_file_name = list_all_midi[i]\n",
    "            if use_tqdm:\n",
    "                process_tqdm_midi.set_description(\"Processing {}\".format(midi_file_name))\n",
    "            try: # Handle exception on malformat MIDI files\n",
    "                midi_pretty_format = pretty_midi.PrettyMIDI(midi_file_name)\n",
    "                piano_midi = midi_pretty_format.instruments[0] # Get the piano channels\n",
    "                piano_roll = piano_midi.get_piano_roll(fs=fs)\n",
    "                list_time_notes.append(piano_roll) \n",
    "                print(i)\n",
    "            except Exception as e:\n",
    "                print(e)\n",
    "                print(\"broken file : {}\".format(midi_file_name))\n",
    "                pass\n",
    "        return list_time_notes\n",
    "    \n",
    "    def preprocess_midi(self):\n",
    "        list_all_midi = glob.glob(self.folder)\n",
    "        seed(666)\n",
    "        shuffle(list_all_midi)\n",
    "        list_time_notes = self.generate_dict_time_notes(list_all_midi, start_index=0, fs=30, use_tqdm=True)\n",
    "        return list_time_notes\n"
   ]
  },
  {
   "cell_type": "markdown",
   "metadata": {},
   "source": [
    "#\n",
    "p = preprocessing_class(\"arabic_tribal_rhythms/arabic_tribal_rhythms/*.mid\", 1, 8)\n",
    "q= p.preprocess_midi()"
   ]
  },
  {
   "cell_type": "code",
   "execution_count": null,
   "metadata": {},
   "outputs": [],
   "source": []
  }
 ],
 "metadata": {
  "kernelspec": {
   "display_name": "Python 3",
   "language": "python",
   "name": "python3"
  },
  "language_info": {
   "codemirror_mode": {
    "name": "ipython",
    "version": 3
   },
   "file_extension": ".py",
   "mimetype": "text/x-python",
   "name": "python",
   "nbconvert_exporter": "python",
   "pygments_lexer": "ipython3",
   "version": "3.7.3"
  }
 },
 "nbformat": 4,
 "nbformat_minor": 2
}
