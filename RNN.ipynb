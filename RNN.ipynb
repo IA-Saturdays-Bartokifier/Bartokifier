{
 "cells": [
  {
   "cell_type": "code",
   "execution_count": 3,
   "metadata": {
    "pycharm": {
     "is_executing": false
    }
   },
   "outputs": [],
   "source": [
    "import torch\n",
    "import torch.nn as nn\n",
    "from torch.autograd import Variable\n",
    "from torch import Tensor\n",
    "\n",
    "import numpy as np\n",
    "import matplotlib.pyplot as plt"
   ]
  },
  {
   "cell_type": "markdown",
   "metadata": {
    "pycharm": {
     "is_executing": false,
     "name": "#%% md\n"
    }
   },
   "source": [
    "# Example Sequence"
   ]
  },
  {
   "cell_type": "code",
   "execution_count": 4,
   "metadata": {
    "collapsed": false,
    "jupyter": {
     "outputs_hidden": false
    },
    "pycharm": {
     "is_executing": false,
     "name": "#%% \n"
    }
   },
   "outputs": [
    {
     "name": "stdout",
     "text": [
      "[False, True, True, False]\n",
      "[True, True, False, True]\n",
      "[False, False, True, False]\n",
      "[True, False, True, True]\n",
      "[False, True, True, True]\n",
      "[True, True, False, False]\n",
      "[False, False, True, True]\n",
      "[True, False, True, True]\n",
      "[False, True, True, True]\n",
      "[True, True, False, False]\n",
      "[False, False, True, True]\n",
      "[True, False, True, True]\n",
      "[False, True, True, True]\n",
      "[True, True, False, False]\n",
      "[False, False, True, True]\n",
      "[True, False, True, True]\n",
      "[False, True, True, True]\n",
      "[True, True, False, False]\n",
      "[False, False, True, True]\n",
      "[True, False, True, True]\n",
      "[False, True, True, True]\n"
     ],
     "output_type": "stream"
    },
    {
     "data": {
      "text/plain": "<matplotlib.image.AxesImage at 0x27f7f74c9d0>"
     },
     "metadata": {},
     "output_type": "execute_result",
     "execution_count": 4
    },
    {
     "data": {
      "text/plain": "<Figure size 288x1152 with 1 Axes>",
      "image/png": "[encoded data removed]"
     },
     "metadata": {
      "needs_background": "light"
     },
     "output_type": "display_data"
    }
   ],
   "source": [
    "seq = [[False, True, True, False]]\n",
    "print(seq[0])\n",
    "\n",
    "for i in range(20):\n",
    "    last = seq[i]\n",
    "    new = [\n",
    "        not(last[0]),\n",
    "        last[0] != last[1],\n",
    "        last[2] != last[1],\n",
    "        not(last[3]) & last[1],\n",
    "    ]\n",
    "    \n",
    "    print(new)\n",
    "    seq.append(new)\n",
    "plt.matshow(seq)"
   ]
  },
  {
   "cell_type": "code",
   "execution_count": 4,
   "metadata": {
    "collapsed": false,
    "jupyter": {
     "outputs_hidden": false
    },
    "pycharm": {
     "is_executing": false,
     "name": "#%%\n"
    }
   },
   "outputs": [],
   "source": []
  },
  {
   "cell_type": "markdown",
   "metadata": {
    "pycharm": {
     "is_executing": false,
     "name": "#%% md\n"
    }
   },
   "source": [
    "# Define Network"
   ]
  },
  {
   "cell_type": "code",
   "execution_count": 5,
   "metadata": {
    "collapsed": false,
    "jupyter": {
     "outputs_hidden": false
    },
    "pycharm": {
     "is_executing": false,
     "name": "#%% \n"
    }
   },
   "outputs": [
    {
     "name": "stderr",
     "text": [
      "c:\\users\\pol\\.virtualenvs\\bartokifier-x6rjhkm6\\lib\\site-packages\\torch\\nn\\modules\\rnn.py:47: UserWarning: dropout option adds dropout after all but last recurrent layer, so non-zero dropout expects num_layers greater than 1, but got dropout=0.1 and num_layers=1\n",
      "  warnings.warn(\"dropout option adds dropout after all but last \"\n",
      "c:\\users\\pol\\.virtualenvs\\bartokifier-x6rjhkm6\\lib\\site-packages\\torch\\nn\\functional.py:1351: UserWarning: nn.functional.sigmoid is deprecated. Use torch.sigmoid instead.\n",
      "  warnings.warn(\"nn.functional.sigmoid is deprecated. Use torch.sigmoid instead.\")\n"
     ],
     "output_type": "stream"
    },
    {
     "data": {
      "text/plain": "(tensor([[[0.4207, 0.5008, 0.4352, 0.4903]]], grad_fn=<SigmoidBackward>),\n tensor([[[ 0.0580, -0.0366, -0.1086, -0.0256, -0.1977,  0.3445, -0.0772,\n           -0.1354, -0.1754,  0.0919]]], grad_fn=<StackBackward>))"
     },
     "metadata": {},
     "output_type": "execute_result",
     "execution_count": 5
    }
   ],
   "source": [
    "class NetworkLSTM(nn.Module):\n",
    "    \n",
    "    input_size = 1\n",
    "    output_size = 4;\n",
    "    hidden_size = 4;\n",
    "    num_layers=4;\n",
    "    \n",
    "    def __init__(self):\n",
    "        super().__init__()\n",
    "        self.lstm = nn.LSTM(\n",
    "            input_size=self.input_size,\n",
    "            hidden_size=self.hidden_size,\n",
    "            num_layers=self.num_layers,\n",
    "            bias=True,\n",
    "            batch_first=False,\n",
    "            dropout=1,\n",
    "            bidirectional=False\n",
    "        )\n",
    "        \n",
    "        \n",
    "    def forward(self, x, hc):\n",
    "        output , (h, c) = self.lstm(x, hc)\n",
    "        output = nn.functional.sigmoid(output)\n",
    "        return output, (h, c)\n",
    "    \n",
    "    def getInitialStates(self):\n",
    "        c0 = Variable(torch.zeros(self.num_layers,1, self.hidden_size))\n",
    "        h0 = Variable(torch.zeros(self.num_layers,1, self.hidden_size))\n",
    "        return (h0, c0)\n",
    "    \n",
    "class NetworkRNN(nn.Module):\n",
    "    \n",
    "    input_size = 4\n",
    "    output_size = 4;\n",
    "    hidden_size = 10;\n",
    "    num_layers=1;\n",
    "    \n",
    "    def __init__(self):\n",
    "        super().__init__()\n",
    "        self.rnn = nn.RNN(\n",
    "            input_size=self.input_size,\n",
    "            hidden_size=self.hidden_size,\n",
    "            num_layers=self.num_layers,\n",
    "            dropout=0.1,\n",
    "        )\n",
    "        \n",
    "        self.Linear = nn.Linear(\n",
    "            in_features=self.hidden_size,\n",
    "            out_features=self.output_size,\n",
    "            bias=True\n",
    "        )\n",
    "        \n",
    "        \n",
    "    def forward(self, x, h):\n",
    "        output , h = self.rnn(x, h)\n",
    "        output = nn.functional.sigmoid(output)\n",
    "        output = self.Linear(output)\n",
    "        output = nn.functional.sigmoid(output)\n",
    "        return output, h\n",
    "    \n",
    "    def getInitialStates(self):\n",
    "        h0 = Variable(torch.zeros(self.num_layers,1, self.hidden_size))\n",
    "        return h0\n",
    "\n",
    "Network = NetworkRNN\n",
    "\n",
    "net = Network()\n",
    "state= net.getInitialStates()\n",
    "input = Tensor(torch.zeros(1,1,4))\n",
    "net(input, state)"
   ]
  },
  {
   "cell_type": "markdown",
   "metadata": {},
   "source": [
    "# Net without training"
   ]
  },
  {
   "cell_type": "code",
   "execution_count": 6,
   "metadata": {
    "collapsed": false,
    "jupyter": {
     "outputs_hidden": false
    },
    "pycharm": {
     "is_executing": false,
     "name": "#%%\n"
    }
   },
   "outputs": [
    {
     "name": "stdout",
     "text": [
      "tensor([[[0.3824, 0.3953, 0.5214, 0.4085]]], grad_fn=<SigmoidBackward>)\n",
      "tensor([[[0.3781, 0.3977, 0.5211, 0.4057]]], grad_fn=<SigmoidBackward>)\n",
      "tensor([[[0.3744, 0.3950, 0.5190, 0.4053]]], grad_fn=<SigmoidBackward>)\n",
      "tensor([[[0.3749, 0.3953, 0.5197, 0.4042]]], grad_fn=<SigmoidBackward>)\n",
      "tensor([[[0.3744, 0.3962, 0.5192, 0.4033]]], grad_fn=<SigmoidBackward>)\n",
      "tensor([[[0.3749, 0.3965, 0.5192, 0.4032]]], grad_fn=<SigmoidBackward>)\n",
      "tensor([[[0.3752, 0.3965, 0.5195, 0.4032]]], grad_fn=<SigmoidBackward>)\n",
      "tensor([[[0.3753, 0.3966, 0.5196, 0.4033]]], grad_fn=<SigmoidBackward>)\n",
      "tensor([[[0.3754, 0.3965, 0.5197, 0.4033]]], grad_fn=<SigmoidBackward>)\n",
      "tensor([[[0.3754, 0.3965, 0.5197, 0.4034]]], grad_fn=<SigmoidBackward>)\n",
      "tensor([[[0.3753, 0.3965, 0.5197, 0.4034]]], grad_fn=<SigmoidBackward>)\n",
      "tensor([[[0.3753, 0.3965, 0.5197, 0.4034]]], grad_fn=<SigmoidBackward>)\n",
      "tensor([[[0.3753, 0.3965, 0.5197, 0.4034]]], grad_fn=<SigmoidBackward>)\n",
      "tensor([[[0.3753, 0.3965, 0.5197, 0.4034]]], grad_fn=<SigmoidBackward>)\n",
      "tensor([[[0.3753, 0.3965, 0.5197, 0.4034]]], grad_fn=<SigmoidBackward>)\n",
      "tensor([[[0.3753, 0.3965, 0.5197, 0.4034]]], grad_fn=<SigmoidBackward>)\n",
      "tensor([[[0.3753, 0.3965, 0.5197, 0.4034]]], grad_fn=<SigmoidBackward>)\n",
      "tensor([[[0.3753, 0.3965, 0.5197, 0.4034]]], grad_fn=<SigmoidBackward>)\n",
      "tensor([[[0.3753, 0.3965, 0.5197, 0.4034]]], grad_fn=<SigmoidBackward>)\n",
      "tensor([[[0.3753, 0.3965, 0.5197, 0.4034]]], grad_fn=<SigmoidBackward>)\n"
     ],
     "output_type": "stream"
    }
   ],
   "source": [
    "net = Network()\n",
    "\n",
    "state = net.getInitialStates()\n",
    "for x in range(20):\n",
    "    input = Tensor(torch.zeros(1,1,4))\n",
    "    output, state = net(input, state)\n",
    "    print(output)"
   ]
  },
  {
   "cell_type": "markdown",
   "metadata": {
    "pycharm": {
     "name": "#%% md\n"
    }
   },
   "source": [
    "# Training"
   ]
  },
  {
   "cell_type": "code",
   "execution_count": 7,
   "metadata": {
    "collapsed": false,
    "jupyter": {
     "outputs_hidden": false
    },
    "pycharm": {
     "is_executing": false,
     "name": "#%%\n"
    }
   },
   "outputs": [
    {
     "name": "stderr",
     "text": [
      "c:\\users\\pol\\.virtualenvs\\bartokifier-x6rjhkm6\\lib\\site-packages\\torch\\nn\\modules\\loss.py:498: UserWarning: Using a target size (torch.Size([4])) that is different to the input size (torch.Size([1, 1, 4])) is deprecated. Please ensure they have the same size.\n",
      "  return F.binary_cross_entropy(input, target, weight=self.weight, reduction=self.reduction)\n"
     ],
     "output_type": "stream"
    }
   ],
   "source": [
    "net = Network()\n",
    "\n",
    "criterion = nn.BCELoss()\n",
    "optimizer = torch.optim.Adam(net.parameters(), lr=0.002)\n",
    "\n",
    "losses = [];\n",
    "\n",
    "for epoch in range(240):\n",
    "    state = net.getInitialStates()\n",
    "    total_loss = 0;\n",
    "    input = torch.rand(1,1,4)\n",
    "    for i,timestep in enumerate(seq):\n",
    "        timestep = Tensor(timestep)\n",
    "        output, state = net(input, state)\n",
    "        loss = criterion(output, timestep)\n",
    "        input=timestep.view(1,1,4)\n",
    "        loss.backward(retain_graph=True)\n",
    "        total_loss += loss;\n",
    "        losses.append(total_loss)\n",
    "        optimizer.step()\n",
    "        optimizer.zero_grad()\n"
   ]
  },
  {
   "cell_type": "code",
   "execution_count": 8,
   "metadata": {
    "pycharm": {
     "is_executing": false
    }
   },
   "outputs": [
    {
     "name": "stdout",
     "text": [
      "tensor([[[0., 1., 1., 1.]]])\n",
      "tensor([[[0., 1., 1., 1.]]])\n"
     ],
     "output_type": "stream"
    }
   ],
   "source": [
    "print(timestep.view(1,1,4))\n",
    "print(input)"
   ]
  },
  {
   "cell_type": "code",
   "execution_count": 9,
   "metadata": {
    "collapsed": false,
    "jupyter": {
     "outputs_hidden": false
    },
    "pycharm": {
     "is_executing": false,
     "name": "#%%\n"
    }
   },
   "outputs": [
    {
     "data": {
      "text/plain": "[<matplotlib.lines.Line2D at 0x27f7f7c8160>]"
     },
     "metadata": {},
     "output_type": "execute_result",
     "execution_count": 9
    },
    {
     "data": {
      "text/plain": "<Figure size 432x288 with 1 Axes>",
      "image/png": "[encoded data removed]"
     },
     "metadata": {
      "needs_background": "light"
     },
     "output_type": "display_data"
    }
   ],
   "source": [
    "plt.plot(losses)"
   ]
  },
  {
   "cell_type": "code",
   "execution_count": 10,
   "metadata": {
    "collapsed": false,
    "jupyter": {
     "outputs_hidden": false
    },
    "pycharm": {
     "is_executing": false,
     "name": "#%%\n"
    }
   },
   "outputs": [
    {
     "data": {
      "text/plain": "<matplotlib.image.AxesImage at 0x27f7f85b700>"
     },
     "metadata": {},
     "output_type": "execute_result",
     "execution_count": 10
    },
    {
     "data": {
      "text/plain": "<Figure size 288x1152 with 1 Axes>",
      "image/png": "[encoded data removed]"
     },
     "metadata": {
      "needs_background": "light"
     },
     "output_type": "display_data"
    }
   ],
   "source": [
    "predseq = []\n",
    "state = net.getInitialStates()\n",
    "input = torch.rand(1,1,4)\n",
    "for x in range(20):\n",
    "    \n",
    "    output, state = net(input, state)\n",
    "    input=output.view(1,1,4)\n",
    "    next = np.asarray([output > 0.5][0])[0][0]\n",
    "    predseq.append(next)\n",
    "        \n",
    "plt.matshow(predseq)"
   ]
  },
  {
   "cell_type": "code",
   "execution_count": 10,
   "metadata": {
    "collapsed": false,
    "jupyter": {
     "outputs_hidden": false
    },
    "pycharm": {
     "is_executing": false,
     "name": "#%%\n"
    }
   },
   "outputs": [],
   "source": []
  },
  {
   "cell_type": "code",
   "execution_count": null,
   "metadata": {
    "collapsed": false,
    "jupyter": {
     "outputs_hidden": false
    },
    "pycharm": {
     "name": "#%%\n",
     "is_executing": false
    }
   },
   "outputs": [],
   "source": []
  },
  {
   "cell_type": "code",
   "execution_count": null,
   "outputs": [],
   "source": [
    "\n"
   ],
   "metadata": {
    "collapsed": false,
    "pycharm": {
     "name": "#%%\n"
    }
   }
  }
 ],
 "metadata": {
  "kernelspec": {
   "display_name": "Python 3",
   "language": "python",
   "name": "python3"
  },
  "language_info": {
   "codemirror_mode": {
    "name": "ipython",
    "version": 3
   },
   "file_extension": ".py",
   "mimetype": "text/x-python",
   "name": "python",
   "nbconvert_exporter": "python",
   "pygments_lexer": "ipython3",
   "version": "3.6.8"
  },
  "pycharm": {
   "stem_cell": {
    "cell_type": "raw",
    "source": [],
    "metadata": {
     "collapsed": false
    }
   }
  }
 },
 "nbformat": 4,
 "nbformat_minor": 4
}